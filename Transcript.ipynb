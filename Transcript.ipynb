{
 "cells": [
  {
   "cell_type": "markdown",
   "metadata": {},
   "source": [
    "## Spark - Key Features\n",
    "\n",
    "- Easy to use\n",
    "  - Comes with an expressive API - 80+ operators. \n",
    "  - Different levels of abstraction - RDDs, DataFrames, SparkSQL etc.\n",
    "  - API in - Java, Scala, Python, R\n",
    "  - Cluster Managers - Yarn, Mezos, Spark\n",
    "- Fast\n",
    "  - In-memory cluster computing capabilities\n",
    "  - Application can cache the data in memory - subsequent operations are performed on the cached data.\n",
    "  - Advanced job execution engine \n",
    "    - job converted to DAG of stages.\n",
    "    - job can contain several stages\n",
    "    - stage execution - optimized to minimize data movement\n",
    "- General Purpose\n",
    "  - batch processing\n",
    "  - interactive analysis\n",
    "  - stream processing\n",
    "  - machine learning\n",
    "  - graph computing\n",
    "- Scallable\n",
    "  - just add new nodes to the cluster\n",
    "- Fault tolerant\n",
    "  - 100+ node cluster high chance of failure\n",
    "  - Automatic node failure handling\n",
    "  - Failed tasks are automatically re-executed on different node"
   ]
  },
  {
   "cell_type": "markdown",
   "metadata": {},
   "source": [
    "## High Level Architecture\n",
    "\n",
    "Terms:\n",
    "- Shuffle\n",
    "  - Redistributes data between the nodes.\n",
    "  - Expensive\n",
    "  - Not random - groups data on criteria into bucket\n",
    "  - each bucket - partition\n",
    "- Job\n",
    "  - An execution of a data processing algorithm.\n",
    "- Stage\n",
    "  - A collection of tasks in shuffle boundaries\n",
    "  - Tasks without shuffle - stage\n",
    "  - Tasks that require shuffle, start a new stage\n",
    "  - Stage depend on each other.\n",
    "  \n",
    "\n",
    "Five key entities:\n",
    "- Driver Program\n",
    "  - an application, uses Spark library - provides code, executed on worker nodes.\n",
    "  - can launch one or more jobs on the cluster.\n",
    "- Cluster Manager\n",
    "  - manages resources accross the cluster\n",
    "  - used to acquire resources for executing a job\n",
    "- Workers\n",
    "  - provide CPU, memory, storage resources to the application\n",
    "- Executors\n",
    "  - JVM processes created by Spark on each worker for an application\n",
    "  - lifetime as an application\n",
    "  - executes app code concurrently in multiple threads\n",
    "  - can cache data in memory or on disk\n",
    "- Tasks\n",
    "  - smallest unit of work sent to an executor.\n",
    "  - executed by a thread in an executor\n",
    "  - returns result to driver or provides data partition for shuffle\n",
    "  - task created per data pertition"
   ]
  },
  {
   "cell_type": "markdown",
   "metadata": {},
   "source": [
    "## Spark Libraries\n",
    "- Spark Core\n",
    "- SparkSQL - SQL-like queries, DataFrame API\n",
    "  - Hive, Avro, Parquet, JSON, CSV, etc.\n",
    "  - Can combine data from different sources\n",
    "- SparkStreaming\n",
    "  - Ingest data from various sources at high velocity\n",
    "- Spark MLlib - Machine learning\n",
    "- GraphX - API for graph computing"
   ]
  },
  {
   "cell_type": "markdown",
   "metadata": {},
   "source": [
    "## Application Core API\n",
    "\n",
    "- SparkContext\n",
    "  - Main entry point into the spark library\n",
    "  - Created by the application, using configuraiton.\n",
    "  - Single SparkContext per application\n",
    "- Resilient Distributed Dataset (RDD)\n",
    "  - Core data abstraction\n",
    "  - Immutable\n",
    "  - Parititioned\n",
    "  - Fault tolerant\n",
    "      - automatic failure handling\n",
    "      - Spark reconstructs lost partitions on another node.\n",
    "      - Spark stores lineage information for RDD - can reconstruct each part or entire RDD\n",
    "  - Abstract Programming Interface - independent from the underlying data provider - Hbase, Cassandra, JSON, Hadoop etc."
   ]
  },
  {
   "cell_type": "markdown",
   "metadata": {},
   "source": [
    "## Spark Programming Model\n",
    "- Create RDD\n",
    "  - textFile()\n",
    "  - parallelize()\n",
    "  - wholeTextFiles()\n",
    "      - key is the file path\n",
    "      - value is the file content\n",
    "  - sequenceFile() \n",
    "      - hadoop binary key-value file\n",
    "- Functional Programming\n",
    "- Create RDD\n",
    "- Transformations \n",
    "  - applied to an RDD, creates another RDD\n",
    "- Actions\n",
    "  - return value to the driver program\n",
    "- Save RDD\n",
    "- \n"
   ]
  },
  {
   "cell_type": "markdown",
   "metadata": {},
   "source": [
    "## Practice 1\n",
    "Environment:\n",
    "- Cloudera CDH 5.7.0 Quick Start VM, running on Virtual Box in Windows\n",
    "- Python 3\n",
    "- Jupyter Notebook (Could also use Apache Zeppelin – still in baby stage)\n",
    "- Apache Spark 2.0.1 for Hadoop 2.7 \n"
   ]
  },
  {
   "cell_type": "markdown",
   "metadata": {},
   "source": [
    "## Example 1. Wordcount\n",
    "\n",
    "Let's start with a classical wordcount example. We will use direct list of lines."
   ]
  },
  {
   "cell_type": "code",
   "execution_count": 1,
   "metadata": {
    "collapsed": true
   },
   "outputs": [],
   "source": [
    "# Create lines RDD using direct list of lines and the parallelize() method from SparkContext\n",
    "rdd_lines = sc.parallelize(['Down, down, down. There was nothing else to do,','so Alice soon began talking again.'])"
   ]
  },
  {
   "cell_type": "code",
   "execution_count": 2,
   "metadata": {
    "collapsed": false
   },
   "outputs": [
    {
     "data": {
      "text/plain": [
       "['Down, down, down. There was nothing else to do,',\n",
       " 'so Alice soon began talking again.']"
      ]
     },
     "execution_count": 2,
     "metadata": {},
     "output_type": "execute_result"
    }
   ],
   "source": [
    "# Let's examine our lines RDD\n",
    "rdd_lines.collect()"
   ]
  },
  {
   "cell_type": "code",
   "execution_count": 3,
   "metadata": {
    "collapsed": false
   },
   "outputs": [],
   "source": [
    "# We see that some cleaning work is to be done.\n",
    "# Let's replace the dots, commas and dashes with spaces.\n",
    "rdd_clean_liness = rdd_lines.map(lambda txt: txt.replace(',', ' ').replace('.', ' ').replace('-', ' ').lower())"
   ]
  },
  {
   "cell_type": "code",
   "execution_count": 4,
   "metadata": {
    "collapsed": false
   },
   "outputs": [
    {
     "data": {
      "text/plain": [
       "['down  down  down  there was nothing else to do ',\n",
       " 'so alice soon began talking again ']"
      ]
     },
     "execution_count": 4,
     "metadata": {},
     "output_type": "execute_result"
    }
   ],
   "source": [
    "# And check the result\n",
    "rdd_clean_liness.collect()"
   ]
  },
  {
   "cell_type": "code",
   "execution_count": 5,
   "metadata": {
    "collapsed": true
   },
   "outputs": [],
   "source": [
    "# Now we can split the lines into individual words, using flatMap.\n",
    "# flatMap can produce multiple records from a single input record.\n",
    "rdd_words = rdd_clean_liness.flatMap(lambda txt: txt.split())"
   ]
  },
  {
   "cell_type": "code",
   "execution_count": 6,
   "metadata": {
    "collapsed": false
   },
   "outputs": [
    {
     "data": {
      "text/plain": [
       "['down',\n",
       " 'down',\n",
       " 'down',\n",
       " 'there',\n",
       " 'was',\n",
       " 'nothing',\n",
       " 'else',\n",
       " 'to',\n",
       " 'do',\n",
       " 'so',\n",
       " 'alice',\n",
       " 'soon',\n",
       " 'began',\n",
       " 'talking',\n",
       " 'again']"
      ]
     },
     "execution_count": 6,
     "metadata": {},
     "output_type": "execute_result"
    }
   ],
   "source": [
    "# How the words RDD looks?\n",
    "rdd_words.collect()"
   ]
  },
  {
   "cell_type": "code",
   "execution_count": 7,
   "metadata": {
    "collapsed": false
   },
   "outputs": [
    {
     "data": {
      "text/plain": [
       "defaultdict(int,\n",
       "            {'again': 1,\n",
       "             'alice': 1,\n",
       "             'began': 1,\n",
       "             'do': 1,\n",
       "             'down': 3,\n",
       "             'else': 1,\n",
       "             'nothing': 1,\n",
       "             'so': 1,\n",
       "             'soon': 1,\n",
       "             'talking': 1,\n",
       "             'there': 1,\n",
       "             'to': 1,\n",
       "             'was': 1})"
      ]
     },
     "execution_count": 7,
     "metadata": {},
     "output_type": "execute_result"
    }
   ],
   "source": [
    "# And finally our counts - as a dictionary\n",
    "word_counts = rdd_words.countByValue()\n",
    "word_counts"
   ]
  },
  {
   "cell_type": "code",
   "execution_count": 8,
   "metadata": {
    "collapsed": false
   },
   "outputs": [
    {
     "data": {
      "text/plain": [
       "dict_items([('again', 1), ('so', 1), ('was', 1), ('to', 1), ('alice', 1), ('nothing', 1), ('else', 1), ('soon', 1), ('do', 1), ('began', 1), ('talking', 1), ('there', 1), ('down', 3)])"
      ]
     },
     "execution_count": 8,
     "metadata": {},
     "output_type": "execute_result"
    }
   ],
   "source": [
    "# If we want to sort the counts, we can use the items() method to get a list of (word, count) tuples:\n",
    "word_counts.items()"
   ]
  },
  {
   "cell_type": "code",
   "execution_count": 9,
   "metadata": {
    "collapsed": false
   },
   "outputs": [
    {
     "data": {
      "text/plain": [
       "('down', 3)"
      ]
     },
     "execution_count": 9,
     "metadata": {},
     "output_type": "execute_result"
    }
   ],
   "source": [
    "# And sort them\n",
    "sorted_counts = sorted(word_counts.items(), key=lambda item: item[1], reverse=True)\n",
    "\n",
    "# And maybe take only the top word.\n",
    "sorted_counts[0]"
   ]
  },
  {
   "cell_type": "markdown",
   "metadata": {},
   "source": [
    "## Example 2. Wordcount from File"
   ]
  },
  {
   "cell_type": "code",
   "execution_count": 10,
   "metadata": {
    "collapsed": false
   },
   "outputs": [
    {
     "name": "stdout",
     "output_type": "stream",
     "text": [
      "﻿Project Gutenberg’s Alice’s Adventures in Wonderland, by Lewis Carroll\r",
      "\r\n",
      "\r",
      "\r\n",
      "This eBook is for the use of anyone anywhere at no cost and with\r",
      "\r\n",
      "almost no restrictions whatsoever.  You may copy it, give it away or\r",
      "\r\n",
      "re-use it under the terms of the Project Gutenberg License included\r",
      "\r\n",
      "with this eBook or online at www.gutenberg.org\r",
      "\r\n",
      "\r",
      "\r\n",
      "\r",
      "\r\n",
      "Title: Alice’s Adventures in Wonderland\r",
      "\r\n",
      "\r",
      "\r\n"
     ]
    }
   ],
   "source": [
    "! head data/book-allice-wonderland.txt"
   ]
  },
  {
   "cell_type": "code",
   "execution_count": 11,
   "metadata": {
    "collapsed": true
   },
   "outputs": [],
   "source": [
    "import re"
   ]
  },
  {
   "cell_type": "code",
   "execution_count": 12,
   "metadata": {
    "collapsed": false,
    "scrolled": true
   },
   "outputs": [
    {
     "data": {
      "text/plain": [
       "[('the', 1818), ('and', 940), ('to', 809), ('a', 690), ('of', 631)]"
      ]
     },
     "execution_count": 12,
     "metadata": {},
     "output_type": "execute_result"
    }
   ],
   "source": [
    "rdd_lines = sc.textFile('data/book-allice-wonderland.txt')\n",
    "#rdd_words = rdd_lines.map(lambda txt: txt.replace(',', ' ').replace('.', ' ').replace('-', ' ').lower()) \\\n",
    "rdd_words = rdd_lines.map(lambda txt: re.sub('\\W', ' ', txt).lower()) \\\n",
    "         .flatMap(lambda txt: txt.split())\n",
    "word_counts = rdd_words.countByValue()\n",
    "\n",
    "sorted(word_counts.items(), key=lambda x: x[1], reverse=True)[:5]"
   ]
  },
  {
   "cell_type": "code",
   "execution_count": 13,
   "metadata": {
    "collapsed": false
   },
   "outputs": [
    {
     "name": "stdout",
     "output_type": "stream",
     "text": [
      "mkdir: cannot create directory `out': File exists\r\n"
     ]
    }
   ],
   "source": [
    "!mkdir out"
   ]
  },
  {
   "cell_type": "code",
   "execution_count": 14,
   "metadata": {
    "collapsed": false
   },
   "outputs": [],
   "source": [
    "rdd_counts = sc.parallelize(word_counts.items())"
   ]
  },
  {
   "cell_type": "code",
   "execution_count": 16,
   "metadata": {
    "collapsed": true
   },
   "outputs": [],
   "source": [
    "! rm -rf out/counts"
   ]
  },
  {
   "cell_type": "code",
   "execution_count": 17,
   "metadata": {
    "collapsed": false
   },
   "outputs": [],
   "source": [
    "rdd_counts.saveAsTextFile('out/counts')"
   ]
  },
  {
   "cell_type": "code",
   "execution_count": 18,
   "metadata": {
    "collapsed": false
   },
   "outputs": [
    {
     "name": "stdout",
     "output_type": "stream",
     "text": [
      "total 60\r\n",
      "drwxrwxr-x 2 cloudera cloudera  4096 Nov 24 00:56 .\r\n",
      "drwxrwxr-x 3 cloudera cloudera  4096 Nov 24 00:56 ..\r\n",
      "-rw-r--r-- 1 cloudera cloudera 43924 Nov 24 00:56 part-00000\r\n",
      "-rw-r--r-- 1 cloudera cloudera   352 Nov 24 00:56 .part-00000.crc\r\n",
      "-rw-r--r-- 1 cloudera cloudera     0 Nov 24 00:56 _SUCCESS\r\n",
      "-rw-r--r-- 1 cloudera cloudera     8 Nov 24 00:56 ._SUCCESS.crc\r\n"
     ]
    }
   ],
   "source": [
    "!ls -al out/counts"
   ]
  },
  {
   "cell_type": "markdown",
   "metadata": {},
   "source": [
    "## Spark DataFrame API\n",
    "\n",
    "Sprark DataFrame API builds on the core RDD API, by providing rich and familiar set of operations.\n",
    "The DataFrame API and the SparkSQL API are available through a SparkSession object."
   ]
  },
  {
   "cell_type": "code",
   "execution_count": 19,
   "metadata": {
    "collapsed": true
   },
   "outputs": [],
   "source": [
    "datasets = 'hdfs://localhost:8020/user/cloudera/datasets'\n",
    "ml_datasets = datasets + '/ml-latest'"
   ]
  },
  {
   "cell_type": "markdown",
   "metadata": {},
   "source": [
    "## Example 3 - DataFrame and JSON\n",
    "\n",
    "For this example we are going to zip code data. It is in JSON format."
   ]
  },
  {
   "cell_type": "code",
   "execution_count": 20,
   "metadata": {
    "collapsed": false
   },
   "outputs": [
    {
     "data": {
      "text/plain": [
       "pyspark.sql.dataframe.DataFrame"
      ]
     },
     "execution_count": 20,
     "metadata": {},
     "output_type": "execute_result"
    }
   ],
   "source": [
    "# We can create a DataFrame by reading from a data source.\n",
    "df_zips = spark.read.json(datasets + '/zips.json')\n",
    "type(df_zips)"
   ]
  },
  {
   "cell_type": "code",
   "execution_count": 21,
   "metadata": {
    "collapsed": false
   },
   "outputs": [
    {
     "name": "stdout",
     "output_type": "stream",
     "text": [
      "+-----+-----------+--------------------+-----+-----+\n",
      "|  _id|       city|                 loc|  pop|state|\n",
      "+-----+-----------+--------------------+-----+-----+\n",
      "|01001|     AGAWAM|[-72.622739, 42.0...|15338|   MA|\n",
      "|01002|    CUSHMAN|[-72.51565, 42.37...|36963|   MA|\n",
      "|01005|      BARRE|[-72.108354, 42.4...| 4546|   MA|\n",
      "|01007|BELCHERTOWN|[-72.410953, 42.2...|10579|   MA|\n",
      "|01008|  BLANDFORD|[-72.936114, 42.1...| 1240|   MA|\n",
      "+-----+-----------+--------------------+-----+-----+\n",
      "only showing top 5 rows\n",
      "\n"
     ]
    }
   ],
   "source": [
    "# Print the first 5 rows to the console\n",
    "df_zips.show(5)"
   ]
  },
  {
   "cell_type": "code",
   "execution_count": 22,
   "metadata": {
    "collapsed": false
   },
   "outputs": [
    {
     "name": "stdout",
     "output_type": "stream",
     "text": [
      "+-------+------------------+\n",
      "|summary|               pop|\n",
      "+-------+------------------+\n",
      "|  count|             29353|\n",
      "|   mean| 8462.794262937348|\n",
      "| stddev|12329.680305853608|\n",
      "|    min|                 0|\n",
      "|    max|            112047|\n",
      "+-------+------------------+\n",
      "\n"
     ]
    }
   ],
   "source": [
    "# We can get some summary statistics about numeric data, using describe()\n",
    "df_zips.describe().show()"
   ]
  },
  {
   "cell_type": "code",
   "execution_count": 23,
   "metadata": {
    "collapsed": false
   },
   "outputs": [
    {
     "name": "stdout",
     "output_type": "stream",
     "text": [
      "+-----+\n",
      "|state|\n",
      "+-----+\n",
      "|   SC|\n",
      "|   AZ|\n",
      "|   LA|\n",
      "|   MN|\n",
      "|   NJ|\n",
      "+-----+\n",
      "only showing top 5 rows\n",
      "\n"
     ]
    }
   ],
   "source": [
    "df_zips[['state']].distinct().show(5)"
   ]
  },
  {
   "cell_type": "code",
   "execution_count": 24,
   "metadata": {
    "collapsed": false
   },
   "outputs": [
    {
     "name": "stdout",
     "output_type": "stream",
     "text": [
      "+---------+\n",
      "| sum(pop)|\n",
      "+---------+\n",
      "|248408400|\n",
      "+---------+\n",
      "\n"
     ]
    }
   ],
   "source": [
    "import pyspark.sql.functions as sf\n",
    "\n",
    "df_zips.agg(sf.sum('pop')).show()"
   ]
  },
  {
   "cell_type": "code",
   "execution_count": 25,
   "metadata": {
    "collapsed": false
   },
   "outputs": [
    {
     "data": {
      "text/plain": [
       "[Row(state='CA', pop=29754890),\n",
       " Row(state='NY', pop=17990402),\n",
       " Row(state='TX', pop=16984601),\n",
       " Row(state='FL', pop=12686644),\n",
       " Row(state='PA', pop=11881643)]"
      ]
     },
     "execution_count": 25,
     "metadata": {},
     "output_type": "execute_result"
    }
   ],
   "source": [
    "# Which are the 5 most populated states?\n",
    "df_states = df_zips.groupBy('state').agg(sf.sum('pop').alias('pop')).orderBy(sf.desc('pop'))\n",
    "df_states.take(5)"
   ]
  },
  {
   "cell_type": "code",
   "execution_count": 26,
   "metadata": {
    "collapsed": true
   },
   "outputs": [],
   "source": [
    "import matplotlib.pyplot as plt\n",
    "import numpy as np\n",
    "import pandas as pd\n"
   ]
  },
  {
   "cell_type": "code",
   "execution_count": 27,
   "metadata": {
    "collapsed": false,
    "scrolled": true
   },
   "outputs": [
    {
     "data": {
      "text/html": [
       "<div>\n",
       "<table border=\"1\" class=\"dataframe\">\n",
       "  <thead>\n",
       "    <tr style=\"text-align: right;\">\n",
       "      <th></th>\n",
       "      <th>state</th>\n",
       "      <th>pop</th>\n",
       "    </tr>\n",
       "  </thead>\n",
       "  <tbody>\n",
       "    <tr>\n",
       "      <th>0</th>\n",
       "      <td>CA</td>\n",
       "      <td>29754</td>\n",
       "    </tr>\n",
       "    <tr>\n",
       "      <th>1</th>\n",
       "      <td>NY</td>\n",
       "      <td>17990</td>\n",
       "    </tr>\n",
       "    <tr>\n",
       "      <th>2</th>\n",
       "      <td>TX</td>\n",
       "      <td>16984</td>\n",
       "    </tr>\n",
       "    <tr>\n",
       "      <th>3</th>\n",
       "      <td>FL</td>\n",
       "      <td>12686</td>\n",
       "    </tr>\n",
       "    <tr>\n",
       "      <th>4</th>\n",
       "      <td>PA</td>\n",
       "      <td>11881</td>\n",
       "    </tr>\n",
       "  </tbody>\n",
       "</table>\n",
       "</div>"
      ],
      "text/plain": [
       "  state    pop\n",
       "0    CA  29754\n",
       "1    NY  17990\n",
       "2    TX  16984\n",
       "3    FL  12686\n",
       "4    PA  11881"
      ]
     },
     "execution_count": 27,
     "metadata": {},
     "output_type": "execute_result"
    }
   ],
   "source": [
    "pd_states = df_states.toPandas()\n",
    "pd_states['pop'] = (pd_states['pop']/1000).astype('int')\n",
    "pd_states.head(5)"
   ]
  },
  {
   "cell_type": "code",
   "execution_count": 28,
   "metadata": {
    "collapsed": false
   },
   "outputs": [
    {
     "data": {
      "image/png": "[encoded data removed]",
      "text/plain": [
       "<matplotlib.figure.Figure at 0x7f5f734312b0>"
      ]
     },
     "metadata": {},
     "output_type": "display_data"
    }
   ],
   "source": [
    "plt.subplot(211)\n",
    "plt.gca().get_xaxis().set_visible(False)\n",
    "plt.title('State population distribution')\n",
    "plt.ylabel('Number of States')\n",
    "plt.hist(pd_states['pop'], bins=20)\n",
    "plt.subplot(212)\n",
    "plt.boxplot(pd_states['pop'], vert=False)\n",
    "plt.xlabel('population, thousandths')\n",
    "plt.show()"
   ]
  },
  {
   "cell_type": "code",
   "execution_count": 29,
   "metadata": {
    "collapsed": false
   },
   "outputs": [
    {
     "name": "stdout",
     "output_type": "stream",
     "text": [
      "+-----+------+\n",
      "|state|   pop|\n",
      "+-----+------+\n",
      "|   WY|453528|\n",
      "|   AK|544698|\n",
      "|   VT|562758|\n",
      "|   DC|606900|\n",
      "|   ND|638272|\n",
      "+-----+------+\n",
      "only showing top 5 rows\n",
      "\n"
     ]
    }
   ],
   "source": [
    "df_states.orderBy('pop', ascending = True).show(5)"
   ]
  },
  {
   "cell_type": "markdown",
   "metadata": {},
   "source": [
    "## Example 4. Parquet files\n",
    "\n",
    "Spark supports various input formats out of the box. One of the popular file formats is Parquet. Parquet is a columnar file format with RLE. Let's compare the performance of csv and parquet files.\n",
    "\n",
    "We are going to use the popular MovieLens dataset - collected information about movie ratings from visitors."
   ]
  },
  {
   "cell_type": "code",
   "execution_count": 30,
   "metadata": {
    "collapsed": true
   },
   "outputs": [],
   "source": [
    "%%timeit?"
   ]
  },
  {
   "cell_type": "code",
   "execution_count": 31,
   "metadata": {
    "collapsed": false
   },
   "outputs": [
    {
     "name": "stdout",
     "output_type": "stream",
     "text": [
      "1 loop, best of 2: 47.9 s per loop\n"
     ]
    }
   ],
   "source": [
    "%%timeit -n 1 -r 2\n",
    "spark.read.csv(ml_datasets + '/ratings.csv', header=True, inferSchema=True).count()"
   ]
  },
  {
   "cell_type": "code",
   "execution_count": 32,
   "metadata": {
    "collapsed": false
   },
   "outputs": [
    {
     "name": "stdout",
     "output_type": "stream",
     "text": [
      "2 loops, best of 1: 592 ms per loop\n"
     ]
    }
   ],
   "source": [
    "%%timeit -n 2 -r 1\n",
    "spark.read.parquet(ml_datasets + '/parquet/ratings').count()"
   ]
  },
  {
   "cell_type": "markdown",
   "metadata": {},
   "source": [
    "## Example 5 - Explore MovieLens with DataFrame"
   ]
  },
  {
   "cell_type": "code",
   "execution_count": 33,
   "metadata": {
    "collapsed": false
   },
   "outputs": [],
   "source": [
    "df_rating = spark.read.parquet(ml_datasets + '/parquet/ratings')"
   ]
  },
  {
   "cell_type": "code",
   "execution_count": 34,
   "metadata": {
    "collapsed": false
   },
   "outputs": [
    {
     "name": "stdout",
     "output_type": "stream",
     "text": [
      "+------+-------+------+---------+\n",
      "|userId|movieId|rating|timestamp|\n",
      "+------+-------+------+---------+\n",
      "|     1|    122|   2.0|945544824|\n",
      "|     1|    172|   1.0|945544871|\n",
      "|     1|   1221|   5.0|945544788|\n",
      "|     1|   1441|   4.0|945544871|\n",
      "|     1|   1609|   3.0|945544824|\n",
      "+------+-------+------+---------+\n",
      "only showing top 5 rows\n",
      "\n"
     ]
    }
   ],
   "source": [
    "df_rating.show(5)"
   ]
  },
  {
   "cell_type": "code",
   "execution_count": 35,
   "metadata": {
    "collapsed": false
   },
   "outputs": [
    {
     "data": {
      "text/plain": [
       "24404096"
      ]
     },
     "execution_count": 35,
     "metadata": {},
     "output_type": "execute_result"
    }
   ],
   "source": [
    "# How many ratings do we have?\n",
    "df_rating.count()"
   ]
  },
  {
   "cell_type": "code",
   "execution_count": 36,
   "metadata": {
    "collapsed": false
   },
   "outputs": [
    {
     "data": {
      "text/plain": [
       "StructType(List(StructField(userId,IntegerType,true),StructField(movieId,IntegerType,true),StructField(rating,DoubleType,true),StructField(timestamp,IntegerType,true)))"
      ]
     },
     "execution_count": 36,
     "metadata": {},
     "output_type": "execute_result"
    }
   ],
   "source": [
    "# Fields have type\n",
    "df_rating.schema"
   ]
  },
  {
   "cell_type": "code",
   "execution_count": 37,
   "metadata": {
    "collapsed": false
   },
   "outputs": [
    {
     "data": {
      "text/plain": [
       "5011914"
      ]
     },
     "execution_count": 37,
     "metadata": {},
     "output_type": "execute_result"
    }
   ],
   "source": [
    "# I want to know how many movies have rating 3\n",
    "df_rating_3 = df_rating.filter('rating = 3')\n",
    "\n",
    "df_rating_3.count()"
   ]
  },
  {
   "cell_type": "code",
   "execution_count": 38,
   "metadata": {
    "collapsed": true
   },
   "outputs": [],
   "source": [
    "# Let's see some of the movies with rating 3\n",
    "\n",
    "df_movies = spark.read.parquet(ml_datasets + '/parquet/movies')"
   ]
  },
  {
   "cell_type": "code",
   "execution_count": 39,
   "metadata": {
    "collapsed": false
   },
   "outputs": [
    {
     "name": "stdout",
     "output_type": "stream",
     "text": [
      "+-------+--------------------+--------------------+\n",
      "|movieId|               title|              genres|\n",
      "+-------+--------------------+--------------------+\n",
      "|      1|    Toy Story (1995)|Adventure|Animati...|\n",
      "|      2|      Jumanji (1995)|Adventure|Childre...|\n",
      "|      3|Grumpier Old Men ...|      Comedy|Romance|\n",
      "|      4|Waiting to Exhale...|Comedy|Drama|Romance|\n",
      "|      5|Father of the Bri...|              Comedy|\n",
      "+-------+--------------------+--------------------+\n",
      "only showing top 5 rows\n",
      "\n"
     ]
    }
   ],
   "source": [
    "df_movies.show(5)"
   ]
  },
  {
   "cell_type": "code",
   "execution_count": 40,
   "metadata": {
    "collapsed": false
   },
   "outputs": [
    {
     "name": "stdout",
     "output_type": "stream",
     "text": [
      "+-------+------+------+----------+--------------------+--------------------+\n",
      "|movieId|userId|rating| timestamp|               title|              genres|\n",
      "+-------+------+------+----------+--------------------+--------------------+\n",
      "|   1609|     1|   3.0| 945544824|187 (One Eight Se...|      Drama|Thriller|\n",
      "|   1961|     1|   3.0| 945544871|     Rain Man (1988)|               Drama|\n",
      "|   1597|     2|   3.0|1008942773|Conspiracy Theory...|Drama|Mystery|Rom...|\n",
      "|   1608|     2|   3.0|1008942733|Air Force One (1997)|     Action|Thriller|\n",
      "|   4963|     2|   3.0|1008942667|Ocean's Eleven (2...|      Crime|Thriller|\n",
      "+-------+------+------+----------+--------------------+--------------------+\n",
      "only showing top 5 rows\n",
      "\n"
     ]
    }
   ],
   "source": [
    "df_rating_3.join(df_movies, on='movieId').show(5)"
   ]
  },
  {
   "cell_type": "markdown",
   "metadata": {},
   "source": [
    "## Practice II"
   ]
  },
  {
   "cell_type": "markdown",
   "metadata": {},
   "source": [
    "## Explore SparkSQL"
   ]
  },
  {
   "cell_type": "code",
   "execution_count": 41,
   "metadata": {
    "collapsed": true
   },
   "outputs": [],
   "source": [
    "# Load source files into DataFrames\n",
    "df_movies = spark.read.parquet(ml_datasets + '/parquet/movies')\n",
    "df_ratings = spark.read.parquet(ml_datasets + '/parquet/ratings')\n",
    "df_tags = spark.read.parquet(ml_datasets + '/parquet/genome-tags')\n",
    "df_scores = spark.read.parquet(ml_datasets + '/parquet/genome-scores')\n"
   ]
  },
  {
   "cell_type": "code",
   "execution_count": 42,
   "metadata": {
    "collapsed": true
   },
   "outputs": [],
   "source": [
    "df_movies.createOrReplaceTempView('movies')\n",
    "df_ratings.createOrReplaceTempView('ratings')\n",
    "df_tags.createOrReplaceTempView('gtags')\n",
    "df_scores.createOrReplaceTempView('gscores')"
   ]
  },
  {
   "cell_type": "code",
   "execution_count": 43,
   "metadata": {
    "collapsed": false
   },
   "outputs": [
    {
     "name": "stdout",
     "output_type": "stream",
     "text": [
      "+-------+--------------------+--------------------+\n",
      "|movieId|               title|              genres|\n",
      "+-------+--------------------+--------------------+\n",
      "|      1|    Toy Story (1995)|Adventure|Animati...|\n",
      "|      2|      Jumanji (1995)|Adventure|Childre...|\n",
      "|      3|Grumpier Old Men ...|      Comedy|Romance|\n",
      "|      4|Waiting to Exhale...|Comedy|Drama|Romance|\n",
      "|      5|Father of the Bri...|              Comedy|\n",
      "+-------+--------------------+--------------------+\n",
      "only showing top 5 rows\n",
      "\n"
     ]
    }
   ],
   "source": [
    "df_movies.show(5)"
   ]
  },
  {
   "cell_type": "code",
   "execution_count": 44,
   "metadata": {
    "collapsed": false
   },
   "outputs": [
    {
     "name": "stdout",
     "output_type": "stream",
     "text": [
      "+-------+-----+-------------------+\n",
      "|movieId|tagId|          relevance|\n",
      "+-------+-----+-------------------+\n",
      "|      1|    1|0.02400000000000002|\n",
      "|      1|    2|0.02400000000000002|\n",
      "|      1|    3|0.05475000000000002|\n",
      "|      1|    4|0.09200000000000003|\n",
      "|      1|    5|            0.14825|\n",
      "+-------+-----+-------------------+\n",
      "only showing top 5 rows\n",
      "\n"
     ]
    }
   ],
   "source": [
    "df_scores.show(5)"
   ]
  },
  {
   "cell_type": "code",
   "execution_count": 45,
   "metadata": {
    "collapsed": false
   },
   "outputs": [
    {
     "name": "stdout",
     "output_type": "stream",
     "text": [
      "+-----+------------+\n",
      "|tagId|         tag|\n",
      "+-----+------------+\n",
      "|    1|         007|\n",
      "|    2|007 (series)|\n",
      "|    3|18th century|\n",
      "|    4|       1920s|\n",
      "|    5|       1930s|\n",
      "+-----+------------+\n",
      "only showing top 5 rows\n",
      "\n"
     ]
    }
   ],
   "source": [
    "df_tags.show(5)"
   ]
  },
  {
   "cell_type": "code",
   "execution_count": 46,
   "metadata": {
    "collapsed": false
   },
   "outputs": [
    {
     "name": "stdout",
     "output_type": "stream",
     "text": [
      "+-------+--------------------+--------------------+\n",
      "|movieId|               title|              genres|\n",
      "+-------+--------------------+--------------------+\n",
      "|   4306|        Shrek (2001)|Adventure|Animati...|\n",
      "|   8360|      Shrek 2 (2004)|Adventure|Animati...|\n",
      "|  53121|Shrek the Third (...|Adventure|Animati...|\n",
      "|  64249|Shrek the Halls (...|Adventure|Animati...|\n",
      "|  78637|Shrek Forever Aft...|Adventure|Animati...|\n",
      "| 109965|Shrek the Musical...|Children|Comedy|F...|\n",
      "+-------+--------------------+--------------------+\n",
      "\n"
     ]
    }
   ],
   "source": [
    "spark.sql(\"SELECT * FROM movies WHERE title LIKE 'Shrek%'\").show()"
   ]
  },
  {
   "cell_type": "code",
   "execution_count": 47,
   "metadata": {
    "collapsed": false
   },
   "outputs": [
    {
     "name": "stdout",
     "output_type": "stream",
     "text": [
      "+-------+-----+--------------------+---------------+\n",
      "|movieId|tagId|           relevance|            tag|\n",
      "+-------+-----+--------------------+---------------+\n",
      "|   4306|    1| 0.03149999999999997|            007|\n",
      "|   4306|    2|0.028749999999999998|   007 (series)|\n",
      "|   4306|    3|0.035999999999999976|   18th century|\n",
      "|   4306|    4|0.058750000000000024|          1920s|\n",
      "|   4306|    5| 0.12674999999999997|          1930s|\n",
      "|   4306|    6| 0.09200000000000003|          1950s|\n",
      "|   4306|    7| 0.02400000000000002|          1960s|\n",
      "|   4306|    8|               0.182|          1970s|\n",
      "|   4306|    9|             0.09025|          1980s|\n",
      "|   4306|   10| 0.04149999999999998|   19th century|\n",
      "|   4306|   11|              0.2855|             3d|\n",
      "|   4306|   12|0.057499999999999996|           70mm|\n",
      "|   4306|   13| 0.06624999999999998|            80s|\n",
      "|   4306|   14|0.012749999999999984|           9/11|\n",
      "|   4306|   15|             0.03075|        aardman|\n",
      "|   4306|   16|              0.2375|aardman studios|\n",
      "|   4306|   17|0.010749999999999982|       abortion|\n",
      "|   4306|   18|             0.33375|         absurd|\n",
      "|   4306|   19| 0.45399999999999996|         action|\n",
      "|   4306|   20|              0.2405|  action packed|\n",
      "+-------+-----+--------------------+---------------+\n",
      "only showing top 20 rows\n",
      "\n"
     ]
    }
   ],
   "source": [
    "shrek_tags = spark.sql(\"SELECT gs.movieId, gs.tagId, gs.relevance, gt.tag FROM gscores gs JOIN gtags gt ON gs.tagId=gt.tagId WHERE movieId=4306\")\n",
    "shrek_tags.show()"
   ]
  },
  {
   "cell_type": "code",
   "execution_count": null,
   "metadata": {
    "collapsed": false
   },
   "outputs": [],
   "source": [
    "shrek_tags.explain()"
   ]
  },
  {
   "cell_type": "code",
   "execution_count": 49,
   "metadata": {
    "collapsed": true
   },
   "outputs": [],
   "source": [
    "shrek_tags.createOrReplaceTempView('shrek_tags')"
   ]
  },
  {
   "cell_type": "code",
   "execution_count": 50,
   "metadata": {
    "collapsed": false
   },
   "outputs": [],
   "source": [
    "df_relevant = spark.sql(\"\"\"\n",
    "    SELECT gs.movieId,\n",
    "           m.title,\n",
    "           gs.tagId,\n",
    "           gs.relevance,\n",
    "           t.tag\n",
    "      FROM gscores gs\n",
    "      JOIN shrek_tags ss ON ss.tagId=gs.tagId AND ss.movieId=4306\n",
    "      JOIN movies m ON m.movieId=gs.movieId\n",
    "      JOIN gtags t ON t.tagId=gs.tagId\n",
    "    \"\"\")"
   ]
  },
  {
   "cell_type": "code",
   "execution_count": 51,
   "metadata": {
    "collapsed": false
   },
   "outputs": [
    {
     "name": "stdout",
     "output_type": "stream",
     "text": [
      "+-------+--------------------+-----+--------------------+----+\n",
      "|movieId|               title|tagId|           relevance| tag|\n",
      "+-------+--------------------+-----+--------------------+----+\n",
      "|      1|    Toy Story (1995)|  148| 0.02200000000000002|boat|\n",
      "|      2|      Jumanji (1995)|  148| 0.02300000000000002|boat|\n",
      "|      3|Grumpier Old Men ...|  148| 0.09200000000000003|boat|\n",
      "|      4|Waiting to Exhale...|  148| 0.03149999999999997|boat|\n",
      "|      5|Father of the Bri...|  148|0.060250000000000026|boat|\n",
      "|      6|         Heat (1995)|  148| 0.02024999999999999|boat|\n",
      "|      7|      Sabrina (1995)|  148|0.056999999999999995|boat|\n",
      "|      8| Tom and Huck (1995)|  148| 0.04325000000000001|boat|\n",
      "|      9| Sudden Death (1995)|  148|0.020000000000000018|boat|\n",
      "|     10|    GoldenEye (1995)|  148|             0.09425|boat|\n",
      "+-------+--------------------+-----+--------------------+----+\n",
      "only showing top 10 rows\n",
      "\n"
     ]
    }
   ],
   "source": [
    "df_relevant.show(10)"
   ]
  },
  {
   "cell_type": "code",
   "execution_count": 52,
   "metadata": {
    "collapsed": true
   },
   "outputs": [],
   "source": [
    "df_relevant_improve = spark.sql(\"\"\"\n",
    "    SELECT gs.movieId,\n",
    "           m.title,\n",
    "           gs.tagId,\n",
    "           gs.relevance,\n",
    "           t.tag,\n",
    "           ss.relevance AS shrek_relevance\n",
    "      FROM gscores gs\n",
    "      JOIN shrek_tags ss ON ss.tagId=gs.tagId AND ss.movieId=4306 AND ss.relevance > 0.8\n",
    "      JOIN movies m ON m.movieId=gs.movieId\n",
    "      JOIN gtags t ON t.tagId=gs.tagId\n",
    "     WHERE gs.relevance > 0.8\n",
    "    \"\"\")"
   ]
  },
  {
   "cell_type": "code",
   "execution_count": 53,
   "metadata": {
    "collapsed": false
   },
   "outputs": [
    {
     "name": "stdout",
     "output_type": "stream",
     "text": [
      "+-------+--------------------+-----+------------------+----+---------------+\n",
      "|movieId|               title|tagId|         relevance| tag|shrek_relevance|\n",
      "+-------+--------------------+-----+------------------+----+---------------+\n",
      "|      1|    Toy Story (1995)|  588|           0.97875|kids|         0.9595|\n",
      "|      2|      Jumanji (1995)|  588|             0.958|kids|         0.9595|\n",
      "|     54|Big Green, The (1...|  588|           0.93025|kids|         0.9595|\n",
      "|     56|Kids of the Round...|  588|0.9652499999999999|kids|         0.9595|\n",
      "|     87|Dunston Checks In...|  588|            0.8225|kids|         0.9595|\n",
      "|    146|Amazing Panda Adv...|  588|0.8614999999999999|kids|         0.9595|\n",
      "|    158|       Casper (1995)|  588|0.9312499999999999|kids|         0.9595|\n",
      "|    239|Goofy Movie, A (1...|  588|0.8402499999999999|kids|         0.9595|\n",
      "|    250|Heavyweights (Hea...|  588|0.8799999999999999|kids|         0.9595|\n",
      "|    258|Kid in King Arthu...|  588|           0.84425|kids|         0.9595|\n",
      "+-------+--------------------+-----+------------------+----+---------------+\n",
      "only showing top 10 rows\n",
      "\n"
     ]
    }
   ],
   "source": [
    "df_relevant_improve.show(10)"
   ]
  },
  {
   "cell_type": "code",
   "execution_count": 54,
   "metadata": {
    "collapsed": true
   },
   "outputs": [],
   "source": [
    "df_relevant_improve.cache().createOrReplaceTempView('relevant')"
   ]
  },
  {
   "cell_type": "code",
   "execution_count": 55,
   "metadata": {
    "collapsed": false
   },
   "outputs": [
    {
     "name": "stdout",
     "output_type": "stream",
     "text": [
      "+------------------+-------+--------------------+\n",
      "|               rel|movieId|               title|\n",
      "+------------------+-------+--------------------+\n",
      "|            0.9935|   5419|   Scooby-Doo (2002)|\n",
      "|           0.98875|   2147|Clan of the Cave ...|\n",
      "|0.9882500000000001|   3435|Double Indemnity ...|\n",
      "|0.9877499999999999|  91500|The Hunger Games ...|\n",
      "|0.9877499999999999|   1178|Paths of Glory (1...|\n",
      "|             0.986| 118997|Into the Woods (2...|\n",
      "|           0.98525|  63239|   Cinderella (1997)|\n",
      "|0.9850000000000001|   4298|Rififi (Du rififi...|\n",
      "|0.9850000000000001|   1212|Third Man, The (1...|\n",
      "|           0.98475|   7308|King Solomon's Mi...|\n",
      "+------------------+-------+--------------------+\n",
      "only showing top 10 rows\n",
      "\n"
     ]
    }
   ],
   "source": [
    "spark.sql('SELECT AVG(relevance) AS rel, movieId, title FROM relevant GROUP BY movieId, title ORDER BY rel DESC').show(10)"
   ]
  },
  {
   "cell_type": "code",
   "execution_count": 56,
   "metadata": {
    "collapsed": false
   },
   "outputs": [
    {
     "name": "stdout",
     "output_type": "stream",
     "text": [
      "+------------------+-------+--------------------+\n",
      "|               rel|movieId|               title|\n",
      "+------------------+-------+--------------------+\n",
      "|            0.9955|   2720|Inspector Gadget ...|\n",
      "|0.9944999999999999|    905|It Happened One N...|\n",
      "|             0.994|   2726| Killing, The (1956)|\n",
      "|0.9937499999999999|  63540|Beverly Hills Chi...|\n",
      "|            0.9935|   5419|   Scooby-Doo (2002)|\n",
      "|           0.99325|   1945|On the Waterfront...|\n",
      "|          0.992875|  36401|Brothers Grimm, T...|\n",
      "|           0.99125|   3468| Hustler, The (1961)|\n",
      "|           0.99075|   1193|One Flew Over the...|\n",
      "|           0.99075|    923| Citizen Kane (1941)|\n",
      "+------------------+-------+--------------------+\n",
      "only showing top 10 rows\n",
      "\n",
      "CPU times: user 1e+03 µs, sys: 2 ms, total: 3 ms\n",
      "Wall time: 4.13 s\n"
     ]
    }
   ],
   "source": [
    "%%time\n",
    "df_suggested = spark.sql('SELECT AVG(relevance) AS rel, movieId, title FROM relevant WHERE shrek_relevance > 0.9 GROUP BY movieId, title ORDER BY rel DESC')\n",
    "df_suggested.show(10)"
   ]
  },
  {
   "cell_type": "code",
   "execution_count": null,
   "metadata": {
    "collapsed": false
   },
   "outputs": [],
   "source": [
    "df_suggested.explain()"
   ]
  },
  {
   "cell_type": "markdown",
   "metadata": {},
   "source": [
    "## Explore Catalog"
   ]
  },
  {
   "cell_type": "code",
   "execution_count": 58,
   "metadata": {
    "collapsed": false
   },
   "outputs": [
    {
     "data": {
      "text/plain": [
       "[Database(name='default', description='Default Hive database', locationUri='file:/home/cloudera/work/spark-intro/spark-warehouse')]"
      ]
     },
     "execution_count": 58,
     "metadata": {},
     "output_type": "execute_result"
    }
   ],
   "source": [
    "spark.catalog.listDatabases()"
   ]
  },
  {
   "cell_type": "code",
   "execution_count": 59,
   "metadata": {
    "collapsed": false
   },
   "outputs": [
    {
     "data": {
      "text/plain": [
       "[Table(name='like_shrek', database='default', description=None, tableType='MANAGED', isTemporary=False),\n",
       " Table(name='gscores', database=None, description=None, tableType='TEMPORARY', isTemporary=True),\n",
       " Table(name='gtags', database=None, description=None, tableType='TEMPORARY', isTemporary=True),\n",
       " Table(name='movies', database=None, description=None, tableType='TEMPORARY', isTemporary=True),\n",
       " Table(name='ratings', database=None, description=None, tableType='TEMPORARY', isTemporary=True),\n",
       " Table(name='relevant', database=None, description=None, tableType='TEMPORARY', isTemporary=True),\n",
       " Table(name='shrek_tags', database=None, description=None, tableType='TEMPORARY', isTemporary=True)]"
      ]
     },
     "execution_count": 59,
     "metadata": {},
     "output_type": "execute_result"
    }
   ],
   "source": [
    "spark.catalog.listTables()"
   ]
  },
  {
   "cell_type": "code",
   "execution_count": 61,
   "metadata": {
    "collapsed": false
   },
   "outputs": [
    {
     "data": {
      "text/plain": [
       "DataFrame[]"
      ]
     },
     "execution_count": 61,
     "metadata": {},
     "output_type": "execute_result"
    }
   ],
   "source": [
    "# We can materialize our suggestions to a physical table\n",
    "spark.sql('DROP TABLE IF EXISTS default.like_shrek')\n",
    "spark.sql('CREATE TABLE default.like_shrek AS SELECT AVG(relevance) AS rel, movieId, title FROM relevant WHERE shrek_relevance > 0.9 GROUP BY movieId, title ')"
   ]
  },
  {
   "cell_type": "code",
   "execution_count": 62,
   "metadata": {
    "collapsed": false
   },
   "outputs": [
    {
     "data": {
      "text/plain": [
       "[Table(name='like_shrek', database='default', description=None, tableType='MANAGED', isTemporary=False),\n",
       " Table(name='gscores', database=None, description=None, tableType='TEMPORARY', isTemporary=True),\n",
       " Table(name='gtags', database=None, description=None, tableType='TEMPORARY', isTemporary=True),\n",
       " Table(name='movies', database=None, description=None, tableType='TEMPORARY', isTemporary=True),\n",
       " Table(name='ratings', database=None, description=None, tableType='TEMPORARY', isTemporary=True),\n",
       " Table(name='relevant', database=None, description=None, tableType='TEMPORARY', isTemporary=True),\n",
       " Table(name='shrek_tags', database=None, description=None, tableType='TEMPORARY', isTemporary=True)]"
      ]
     },
     "execution_count": 62,
     "metadata": {},
     "output_type": "execute_result"
    }
   ],
   "source": [
    "# Now we can see our table is not temporary\n",
    "spark.catalog.listTables()"
   ]
  },
  {
   "cell_type": "code",
   "execution_count": 63,
   "metadata": {
    "collapsed": false
   },
   "outputs": [
    {
     "name": "stdout",
     "output_type": "stream",
     "text": [
      "+------------------+-------+--------------------+\n",
      "|               rel|movieid|               title|\n",
      "+------------------+-------+--------------------+\n",
      "|            0.9955|   2720|Inspector Gadget ...|\n",
      "|0.9944999999999999|    905|It Happened One N...|\n",
      "|             0.994|   2726| Killing, The (1956)|\n",
      "|0.9937499999999999|  63540|Beverly Hills Chi...|\n",
      "|            0.9935|   5419|   Scooby-Doo (2002)|\n",
      "|           0.99325|   1945|On the Waterfront...|\n",
      "|          0.992875|  36401|Brothers Grimm, T...|\n",
      "|           0.99125|   3468| Hustler, The (1961)|\n",
      "|           0.99075|    923| Citizen Kane (1941)|\n",
      "|           0.99075|   1193|One Flew Over the...|\n",
      "+------------------+-------+--------------------+\n",
      "only showing top 10 rows\n",
      "\n"
     ]
    }
   ],
   "source": [
    "df_like_shrek = spark.sql('SELECT * FROM like_shrek ORDER BY rel DESC')\n",
    "df_like_shrek.show(10)"
   ]
  },
  {
   "cell_type": "code",
   "execution_count": 64,
   "metadata": {
    "collapsed": false
   },
   "outputs": [
    {
     "name": "stdout",
     "output_type": "stream",
     "text": [
      "== Physical Plan ==\n",
      "*Sort [rel#683 DESC], true, 0\n",
      "+- Exchange rangepartitioning(rel#683 DESC, 200)\n",
      "   +- HiveTableScan [rel#683, movieid#684, title#685], MetastoreRelation default, like_shrek\n"
     ]
    }
   ],
   "source": [
    "df_like_shrek.explain()"
   ]
  },
  {
   "cell_type": "code",
   "execution_count": null,
   "metadata": {
    "collapsed": false
   },
   "outputs": [],
   "source": [
    "spark.sql(\"SELECT * FROM relevant\").explain()"
   ]
  },
  {
   "cell_type": "markdown",
   "metadata": {},
   "source": [
    "## Spark Streaming\n",
    "\n",
    "The core of Spark Streaming is the DStream (discretized stream) analogous to RDD. \n",
    "Spark collects stream data in microbatches, creating multiple RDDs. Each batch, a new DStream is produced, containing all the RDDs collected during the batch."
   ]
  },
  {
   "cell_type": "markdown",
   "metadata": {},
   "source": [
    "## Example: Real-time Word Popularity\n",
    "\n",
    "\n",
    "Let's start a netcat server. The server will listen on port 9999 and will send a line from the standard input each second (`-i 1` option).\n",
    "\n",
    "```bash\n",
    "$ nc -l -p 9999 -i 1 < data/book-allice-wonderland.txt\n",
    "```\n",
    "\n",
    "**wordcount-streaming.py**\n",
    "\n",
    "```python\n",
    "import sys\n",
    "from pyspark import SparkContext\n",
    "from pyspark.streaming import StreamingContext\n",
    "import re\n",
    "\n",
    "if __name__ == \"__main__\":\n",
    "\n",
    "    hostname = \"localhost\"\n",
    "    port = 9999\n",
    "    \n",
    "    sc = SparkContext(appName=\"StreamingWordCountInPython\")\n",
    "    \n",
    "    # Necessary log4j logging level settings are done \n",
    "    log4j = sc._jvm.org.apache.log4j\n",
    "    log4j.LogManager.getRootLogger().setLevel(log4j.Level.ERROR)\n",
    "    \n",
    "    ssc = StreamingContext(sc, 2)\n",
    "    lines_ds = ssc.socketTextStream(hostname, port)\n",
    "    words = lines_ds.flatMap(lambda line: re.sub('\\W', ' ', line).split() )\n",
    "    counts_sorted = words.countByValue()    \\\n",
    "              .transform(lambda rdd: rdd.sortBy(lambda x: x[1], False))\n",
    "    counts_sorted.pprint()\n",
    "\n",
    "    \n",
    "    ssc.start()\n",
    "    ssc.awaitTermination()\n",
    "```\n",
    "\n",
    "\n",
    "```bash\n",
    "$ spark-submit --master=local[*] wordcount-streaming.py\n",
    "```\n",
    "\n"
   ]
  },
  {
   "cell_type": "markdown",
   "metadata": {},
   "source": [
    "## Window Processing\n",
    "\n",
    "- *Batch Interval* - The time interval at which a new DStream is produced. E.g. each 10 seconds\n",
    "- *Window Length* - The duration of batch intervals over which the operation is performed. E.g. messages last 5  minutes\n",
    "- *Slide Interval* - The interval at which the window operation is performed. E.g. every 20 seconds\n",
    "\n",
    "- *Block Interval*  - The duration of a micro-batch. Default is 200ms"
   ]
  },
  {
   "cell_type": "markdown",
   "metadata": {
    "collapsed": true
   },
   "source": [
    "## Example - Online Word Popularity\n",
    "\n",
    "What if we want to monitor how the popularity of a word changes over time?\n",
    "We want to see what where the most popular words in the past 5 minutes.\n",
    "\n",
    "\n",
    "**wordcount-window.py**\n",
    "\n",
    "```python\n",
    "import sys\n",
    "from pyspark import SparkContext\n",
    "from pyspark.streaming import StreamingContext\n",
    "import re\n",
    "\n",
    "if __name__ == \"__main__\":\n",
    "\n",
    "    sc = SparkContext(appName=\"PythonStreamingWordCount\")\n",
    "    \n",
    "    # Necessary log4j logging level settings are done \n",
    "    log4j = sc._jvm.org.apache.log4j\n",
    "    log4j.LogManager.getRootLogger().setLevel(log4j.Level.ERROR)\n",
    "    \n",
    "    # Create the Spark Streaming Context with 10 seconds batch interval\n",
    "    ssc = StreamingContext(sc, 10)\n",
    "    \n",
    "    # Set the check point directory for saving the data to recover when there is a crash\n",
    "    ssc.checkpoint(\"checkpoint\")\n",
    "    \n",
    "    # Create a DStream that connects to localhost on port 9999\n",
    "    lines_ds = ssc.socketTextStream(\"localhost\", 9999)\n",
    "    words = lines_ds.flatMap(lambda line: re.sub('\\W', ' ', line).split() )\n",
    "    counts_sorted = words.countByValueAndWindow(300,10)   \\\n",
    "                   .transform(lambda rdd: rdd.sortBy(lambda x: x[1], False))\n",
    "    counts_sorted.pprint()\n",
    "\n",
    "    ssc.start()\n",
    "    ssc.awaitTermination()\n",
    "\n",
    "```"
   ]
  },
  {
   "cell_type": "code",
   "execution_count": null,
   "metadata": {
    "collapsed": true
   },
   "outputs": [],
   "source": []
  }
 ],
 "metadata": {
  "anaconda-cloud": {},
  "kernelspec": {
   "display_name": "Python [Root]",
   "language": "python",
   "name": "Python [Root]"
  },
  "language_info": {
   "codemirror_mode": {
    "name": "ipython",
    "version": 3
   },
   "file_extension": ".py",
   "mimetype": "text/x-python",
   "name": "python",
   "nbconvert_exporter": "python",
   "pygments_lexer": "ipython3",
   "version": "3.5.2"
  }
 },
 "nbformat": 4,
 "nbformat_minor": 0
}
